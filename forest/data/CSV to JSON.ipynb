{
 "metadata": {
  "name": "CSV to JSON"
 },
 "nbformat": 3,
 "nbformat_minor": 0,
 "worksheets": [
  {
   "cells": [
    {
     "cell_type": "code",
     "collapsed": false,
     "input": [
      "import json\n",
      "import csv\n",
      "\n",
      "sales_file = open(\"sales.csv\", \"r\")\n",
      "\n",
      "sales_reader = csv.DictReader(sales_file)\n",
      "\n",
      "sales_dict = {}"
     ],
     "language": "python",
     "metadata": {},
     "outputs": [],
     "prompt_number": 9
    },
    {
     "cell_type": "code",
     "collapsed": false,
     "input": [
      "for row in sales_reader.reader:\n",
      "    sales_dict[row[0]] = {}\n",
      "    for i in range(1,len(sales_reader.fieldnames)):\n",
      "        sales_dict[row[0]][sales_reader.fieldnames[i]] = row[i]\n",
      "        \n",
      "sales_file.close()"
     ],
     "language": "python",
     "metadata": {},
     "outputs": [],
     "prompt_number": 10
    },
    {
     "cell_type": "code",
     "collapsed": false,
     "input": [
      "f = open(\"sales.json\",\"w\")\n",
      "f.write(json.dumps(json_dict))\n",
      "f.close()"
     ],
     "language": "python",
     "metadata": {},
     "outputs": [],
     "prompt_number": 11
    },
    {
     "cell_type": "code",
     "collapsed": false,
     "input": [
      "trees_file = open(\"trees.csv\",\"r\")\n",
      "trees_reader = csv.DictReader(trees_file,fieldnames=[\"ContractNumber\",\"Species\",\"NumberTrees\",\"AvgDBH\",\"BoardFeet\",\"PulpwoodTons\"])\n",
      "trees_dict = {}\n",
      "\n",
      "for row in trees_reader.reader:\n",
      "    if not row[0] in trees_dict.keys() : trees_dict[row[0]]={}\n",
      "    if not row[1] in trees_dict[row[0]].keys(): trees_dict[row[0]][row[1]] = {}\n",
      "    for i in range(2,len(trees_reader.fieldnames)):\n",
      "        trees_dict[row[0]][row[1]][trees_reader.fieldnames[i]] = row[i]\n",
      "\n",
      "trees_file.close()\n",
      "\n",
      "f = open(\"trees.json\",\"w\")\n",
      "f.write(json.dumps(trees_dict))\n",
      "f.close()"
     ],
     "language": "python",
     "metadata": {},
     "outputs": [],
     "prompt_number": 25
    }
   ],
   "metadata": {}
  }
 ]
}